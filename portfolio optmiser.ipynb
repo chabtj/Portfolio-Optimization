{
 "metadata": {
  "language_info": {
   "codemirror_mode": {
    "name": "ipython",
    "version": 3
   },
   "file_extension": ".py",
   "mimetype": "text/x-python",
   "name": "python",
   "nbconvert_exporter": "python",
   "pygments_lexer": "ipython3",
   "version": "3.9.4"
  },
  "orig_nbformat": 4,
  "kernelspec": {
   "name": "python3",
   "display_name": "Python 3.9.4 64-bit"
  },
  "interpreter": {
   "hash": "aee8b7b246df8f9039afb4144a1f6fd8d2ca17a180786b69acc140d282b71a49"
  }
 },
 "nbformat": 4,
 "nbformat_minor": 2,
 "cells": [
  {
   "cell_type": "code",
   "execution_count": 93,
   "metadata": {},
   "outputs": [],
   "source": [
    "import pandas as pd \n",
    "import openpyxl as pxl\n",
    "import numpy as np \n",
    "import statistics as st\n",
    "from scipy.optimize import minimize, Bounds, LinearConstraint\n",
    "from datetime import datetime"
   ]
  },
  {
   "cell_type": "code",
   "execution_count": 105,
   "metadata": {},
   "outputs": [
    {
     "output_type": "stream",
     "name": "stdout",
     "text": [
      "           SYMBOL SERIES    CLOSE  TIMESTAMP\n0       20MICRONS     EQ   125.60 2012-11-01\n2         3MINDIA     EQ  3820.00 2012-11-01\n3          A2ZMES     EQ    59.95 2012-11-01\n4       AANJANEYA     EQ   637.30 2012-11-01\n5      AARTIDRUGS     EQ   193.05 2012-11-01\n...           ...    ...      ...        ...\n91355  ZODIACLOTH     EQ   170.20 2012-09-03\n91356   ZODJRDMKJ     EQ    21.30 2012-09-03\n91357   ZUARIAGRO     EQ   137.10 2012-09-03\n91358   ZYDUSWELL     EQ   393.70 2012-09-03\n91359       ZYLOG     EQ   291.05 2012-09-03\n\n[82620 rows x 4 columns]\n\n"
     ]
    }
   ],
   "source": [
    "df=pd.read_csv(\"/Users/tejasvichabbra/Desktop/Portfolio_Analysis/data/combined3.csv\")\n",
    "df[\"TIMESTAMP\"] = pd.to_datetime(df[\"TIMESTAMP\"])\n",
    "df=df[df['SERIES']=='EQ']\n",
    "print(df, end=\"\\n\\n\")\n",
    "companies=df['SYMBOL'].unique()\n",
    "final_day=pd.read_csv('finalday.csv')\n",
    "final_day=final_day[final_day['SERIES']=='EQ']\n",
    "final_day_companies=final_day['SYMBOL'].unique()\n",
    "# print(companies)\n",
    "# len(companies)\n",
    "# print(len(final_day_companies))\n",
    "# companies1=[]\n",
    "# print(len(companies1))\n",
    "# companies=companies1\n",
    "# #inal_day_data=final_day.loc(:,['SYMBOL','CLOSE'])"
   ]
  },
  {
   "cell_type": "code",
   "execution_count": 106,
   "metadata": {},
   "outputs": [],
   "source": [
    "df.sort_values(by=['SYMBOL','TIMESTAMP'],inplace=True)\n",
    "companies=df['SYMBOL'].unique()\n",
    "companies1=[]\n",
    "for x in companies:\n",
    "    for j in final_day_companies:\n",
    "         if (x==j):\n",
    "             companies1.append(x)\n",
    "             break\n",
    "len(companies1)\n",
    "companies=companies1\n",
    "# for i in df['SYMBOL'].unique()\n"
   ]
  },
  {
   "cell_type": "code",
   "execution_count": 107,
   "metadata": {
    "tags": [
     "outputPrepend"
    ]
   },
   "outputs": [
    {
     "output_type": "stream",
     "name": "stdout",
     "text": [
      " EQ  16.55 2012-09-03\n48874  XCHANGING     EQ  17.65 2012-10-01\n1556   XCHANGING     EQ  14.20 2012-11-01\n10793  XCHANGING     EQ  13.55 2012-12-03\n47286  XCHANGING     EQ  14.10 2013-01-01\n24628  XCHANGING     EQ  13.75 2013-02-01\n27784  XCHANGING     EQ  14.00 2013-03-01\n20074  XCHANGING     EQ  12.20 2013-04-01\n61157  XCHANGING     EQ  11.25 2013-05-02\n29224  XCHANGING     EQ  10.30 2013-06-03\n88400  XCHANGING     EQ   8.50 2013-07-01\n66896  XCHANGING     EQ   8.00 2013-08-01\n89782  XCHANGING     EQ   8.85 2013-09-02\n13708  XCHANGING     EQ  11.25 2013-12-02\n85530  XCHANGING     EQ  12.65 2014-01-01\n77702  XCHANGING     EQ  14.80 2014-02-03\n76205  XCHANGING     EQ  17.00 2014-03-03\n65513  XCHANGING     EQ  19.25 2014-04-01\n26197  XCHANGING     EQ  16.85 2014-05-02\n84070  XCHANGING     EQ  18.45 2014-06-02\n45701  XCHANGING     EQ  19.55 2014-07-01\n18512  XCHANGING     EQ  19.90 2014-08-01\n16917  XCHANGING     EQ  29.65 2014-09-01\n71588  XCHANGING     EQ  41.50 2014-10-01\n79311  XCHANGING     EQ  47.30 2014-11-03\n69998  XCHANGING     EQ  39.05 2014-12-01\n82462  XCHANGING     EQ  39.80 2015-01-01\n74690  XCHANGING     EQ  36.15 2015-02-02\n80885  XCHANGING     EQ  37.30 2015-03-02\n59682  XCHANGING     EQ  32.10 2015-04-01\n15287  XCHANGING     EQ  31.45 2015-05-04\n58121  XCHANGING     EQ  28.80 2015-06-01,         SYMBOL SERIES   CLOSE  TIMESTAMP\n62561  YESBANK     EQ  269.60 2010-07-01\n63967  YESBANK     EQ  305.45 2010-08-02\n86959  YESBANK     EQ  319.85 2010-09-01\n12243  YESBANK     EQ  357.00 2010-10-01\n42625  YESBANK     EQ  369.35 2010-11-01\n6127   YESBANK     EQ  329.70 2010-12-01\n44095  YESBANK     EQ  315.55 2011-01-03\n33636  YESBANK     EQ  264.70 2011-02-01\n39641  YESBANK     EQ  272.15 2011-03-01\n38165  YESBANK     EQ  312.05 2011-04-01\n68388  YESBANK     EQ  299.15 2011-05-02\n36674  YESBANK     EQ  298.15 2011-06-01\n54993  YESBANK     EQ  318.35 2011-07-01\n73113  YESBANK     EQ  316.30 2011-08-01\n53490  YESBANK     EQ  278.65 2011-09-02\n41158  YESBANK     EQ  260.50 2011-10-03\n35172  YESBANK     EQ  307.30 2011-11-01\n21604  YESBANK     EQ  279.10 2011-12-01\n7652   YESBANK     EQ  231.85 2012-01-02\n4664   YESBANK     EQ  336.15 2012-02-01\n9198   YESBANK     EQ  340.00 2012-03-01\n30789  YESBANK     EQ  373.05 2012-04-02\n56536  YESBANK     EQ  348.65 2012-05-02\n3100   YESBANK     EQ  323.35 2012-06-01\n51974  YESBANK     EQ  344.40 2012-07-02\n50420  YESBANK     EQ  365.50 2012-08-01\n91345  YESBANK     EQ  328.00 2012-09-03\n48877  YESBANK     EQ  394.20 2012-10-01\n1559   YESBANK     EQ  412.55 2012-11-01\n10796  YESBANK     EQ  447.40 2012-12-03\n47289  YESBANK     EQ  477.00 2013-01-01\n24631  YESBANK     EQ  532.35 2013-02-01\n27787  YESBANK     EQ  473.00 2013-03-01\n20077  YESBANK     EQ  432.30 2013-04-01\n61160  YESBANK     EQ  504.60 2013-05-02\n29227  YESBANK     EQ  502.70 2013-06-03\n88403  YESBANK     EQ  470.15 2013-07-01\n66899  YESBANK     EQ  327.65 2013-08-01\n89785  YESBANK     EQ  252.95 2013-09-02\n32164  YESBANK     EQ  294.90 2013-10-01\n23046  YESBANK     EQ  378.10 2013-11-01\n13711  YESBANK     EQ  375.60 2013-12-02\n85533  YESBANK     EQ  374.45 2014-01-01\n77705  YESBANK     EQ  299.45 2014-02-03\n76208  YESBANK     EQ  302.75 2014-03-03\n65516  YESBANK     EQ  410.35 2014-04-01\n26200  YESBANK     EQ  444.00 2014-05-02\n84073  YESBANK     EQ  575.65 2014-06-02\n45704  YESBANK     EQ  556.25 2014-07-01\n18515  YESBANK     EQ  536.30 2014-08-01\n16920  YESBANK     EQ  596.40 2014-09-01\n71591  YESBANK     EQ  557.45 2014-10-01\n79314  YESBANK     EQ  678.35 2014-11-03\n70001  YESBANK     EQ  714.65 2014-12-01\n82465  YESBANK     EQ  772.55 2015-01-01\n74693  YESBANK     EQ  832.20 2015-02-02\n80888  YESBANK     EQ  882.50 2015-03-02\n59684  YESBANK     EQ  847.75 2015-04-01\n15290  YESBANK     EQ  853.90 2015-05-04\n58124  YESBANK     EQ  879.55 2015-06-01,       SYMBOL SERIES   CLOSE  TIMESTAMP\n62563   ZEEL     EQ  298.85 2010-07-01\n63969   ZEEL     EQ  301.85 2010-08-02\n86961   ZEEL     EQ  287.00 2010-09-01\n12245   ZEEL     EQ  301.20 2010-10-01\n42627   ZEEL     EQ  284.40 2010-11-01\n6129    ZEEL     EQ  145.30 2010-12-01\n44097   ZEEL     EQ  144.55 2011-01-03\n33638   ZEEL     EQ  111.90 2011-02-01\n39643   ZEEL     EQ  120.80 2011-03-01\n38167   ZEEL     EQ  125.05 2011-04-01\n68390   ZEEL     EQ  136.55 2011-05-02\n36676   ZEEL     EQ  139.75 2011-06-01\n54995   ZEEL     EQ  133.05 2011-07-01\n73115   ZEEL     EQ  130.45 2011-08-01\n53492   ZEEL     EQ  118.15 2011-09-02\n41160   ZEEL     EQ  117.75 2011-10-03\n35174   ZEEL     EQ  118.05 2011-11-01\n21606   ZEEL     EQ  126.20 2011-12-01\n7654    ZEEL     EQ  116.80 2012-01-02\n4666    ZEEL     EQ  130.70 2012-02-01\n9200    ZEEL     EQ  130.00 2012-03-01\n30791   ZEEL     EQ  130.50 2012-04-02\n56538   ZEEL     EQ  126.50 2012-05-02\n3102    ZEEL     EQ  126.20 2012-06-01\n51976   ZEEL     EQ  149.05 2012-07-02\n50422   ZEEL     EQ  165.50 2012-08-01\n91347   ZEEL     EQ  161.15 2012-09-03\n48879   ZEEL     EQ  197.10 2012-10-01\n1561    ZEEL     EQ  187.95 2012-11-01\n10798   ZEEL     EQ  200.20 2012-12-03\n47291   ZEEL     EQ  223.35 2013-01-01\n24633   ZEEL     EQ  231.35 2013-02-01\n27789   ZEEL     EQ  220.80 2013-03-01\n20079   ZEEL     EQ  214.90 2013-04-01\n61162   ZEEL     EQ  234.25 2013-05-02\n29229   ZEEL     EQ  236.10 2013-06-03\n88405   ZEEL     EQ  247.60 2013-07-01\n66901   ZEEL     EQ  237.95 2013-08-01\n89787   ZEEL     EQ  234.30 2013-09-02\n32166   ZEEL     EQ  231.05 2013-10-01\n23048   ZEEL     EQ  270.70 2013-11-01\n13713   ZEEL     EQ  269.50 2013-12-02\n85535   ZEEL     EQ  277.00 2014-01-01\n77707   ZEEL     EQ  269.10 2014-02-03\n76210   ZEEL     EQ  267.30 2014-03-03\n65518   ZEEL     EQ  273.40 2014-04-01\n26202   ZEEL     EQ  269.50 2014-05-02\n84075   ZEEL     EQ  265.00 2014-06-02\n45706   ZEEL     EQ  299.50 2014-07-01\n18517   ZEEL     EQ  289.05 2014-08-01\n16922   ZEEL     EQ  284.50 2014-09-01\n71594   ZEEL     EQ  313.50 2014-10-01\n79316   ZEEL     EQ  350.20 2014-11-03\n70003   ZEEL     EQ  377.30 2014-12-01\n82467   ZEEL     EQ  377.70 2015-01-01\n74695   ZEEL     EQ  371.75 2015-02-02\n80890   ZEEL     EQ  342.75 2015-03-02\n59686   ZEEL     EQ  340.85 2015-04-01\n15292   ZEEL     EQ  320.95 2015-05-04\n58126   ZEEL     EQ  320.25 2015-06-01,          SYMBOL SERIES  CLOSE  TIMESTAMP\n44098  ZEELEARN     EQ  29.60 2011-01-03\n33639  ZEELEARN     EQ  21.85 2011-02-01\n39644  ZEELEARN     EQ  23.35 2011-03-01\n38168  ZEELEARN     EQ  25.00 2011-04-01\n68391  ZEELEARN     EQ  22.85 2011-05-02\n36677  ZEELEARN     EQ  22.00 2011-06-01\n54996  ZEELEARN     EQ  20.10 2011-07-01\n73116  ZEELEARN     EQ  21.15 2011-08-01\n53493  ZEELEARN     EQ  19.05 2011-09-02\n41161  ZEELEARN     EQ  19.35 2011-10-03\n35175  ZEELEARN     EQ  18.90 2011-11-01\n21607  ZEELEARN     EQ  15.80 2011-12-01\n7655   ZEELEARN     EQ  12.05 2012-01-02\n30792  ZEELEARN     EQ  14.85 2012-04-02\n51977  ZEELEARN     EQ  25.00 2012-07-02\n50423  ZEELEARN     EQ  27.70 2012-08-01\n91348  ZEELEARN     EQ  23.20 2012-09-03\n48880  ZEELEARN     EQ  27.30 2012-10-01\n1562   ZEELEARN     EQ  28.90 2012-11-01\n10799  ZEELEARN     EQ  30.30 2012-12-03\n47292  ZEELEARN     EQ  30.70 2013-01-01\n24634  ZEELEARN     EQ  27.00 2013-02-01\n27790  ZEELEARN     EQ  23.30 2013-03-01\n20080  ZEELEARN     EQ  21.95 2013-04-01\n61163  ZEELEARN     EQ  17.50 2013-05-02\n29230  ZEELEARN     EQ  17.20 2013-06-03\n88406  ZEELEARN     EQ  16.65 2013-07-01\n66902  ZEELEARN     EQ  18.60 2013-08-01\n89788  ZEELEARN     EQ  20.80 2013-09-02\n32167  ZEELEARN     EQ  23.60 2013-10-01\n23049  ZEELEARN     EQ  27.45 2013-11-01\n13714  ZEELEARN     EQ  30.05 2013-12-02\n85536  ZEELEARN     EQ  28.05 2014-01-01\n77708  ZEELEARN     EQ  27.55 2014-02-03\n76211  ZEELEARN     EQ  27.45 2014-03-03\n65520  ZEELEARN     EQ  24.95 2014-04-01\n26204  ZEELEARN     EQ  23.40 2014-05-02\n84077  ZEELEARN     EQ  30.10 2014-06-02\n45708  ZEELEARN     EQ  37.50 2014-07-01\n18519  ZEELEARN     EQ  30.75 2014-08-01\n16924  ZEELEARN     EQ  37.50 2014-09-01\n71596  ZEELEARN     EQ  35.10 2014-10-01\n79318  ZEELEARN     EQ  35.65 2014-11-03\n70005  ZEELEARN     EQ  33.05 2014-12-01\n82469  ZEELEARN     EQ  30.00 2015-01-01\n74697  ZEELEARN     EQ  31.65 2015-02-02\n80892  ZEELEARN     EQ  35.50 2015-03-02\n59688  ZEELEARN     EQ  37.00 2015-04-01\n15294  ZEELEARN     EQ  35.80 2015-05-04\n58128  ZEELEARN     EQ  35.45 2015-06-01,          SYMBOL SERIES  CLOSE  TIMESTAMP\n66903  ZEEMEDIA     EQ  11.55 2013-08-01\n89789  ZEEMEDIA     EQ  11.00 2013-09-02\n32168  ZEEMEDIA     EQ  11.85 2013-10-01\n23050  ZEEMEDIA     EQ  13.80 2013-11-01\n13715  ZEEMEDIA     EQ  13.80 2013-12-02\n85537  ZEEMEDIA     EQ  13.90 2014-01-01\n77709  ZEEMEDIA     EQ  12.35 2014-02-03\n76212  ZEEMEDIA     EQ  13.60 2014-03-03\n65521  ZEEMEDIA     EQ  14.30 2014-04-01\n26205  ZEEMEDIA     EQ  13.35 2014-05-02\n84078  ZEEMEDIA     EQ  17.90 2014-06-02\n45709  ZEEMEDIA     EQ  21.00 2014-07-01\n18520  ZEEMEDIA     EQ  17.85 2014-08-01\n16925  ZEEMEDIA     EQ  18.85 2014-09-01\n71597  ZEEMEDIA     EQ  16.75 2014-10-01\n79319  ZEEMEDIA     EQ  21.90 2014-11-03\n70006  ZEEMEDIA     EQ  20.95 2014-12-01\n82470  ZEEMEDIA     EQ  19.05 2015-01-01\n74698  ZEEMEDIA     EQ  18.25 2015-02-02\n80893  ZEEMEDIA     EQ  17.25 2015-03-02\n59689  ZEEMEDIA     EQ  18.25 2015-04-01\n15295  ZEEMEDIA     EQ  19.05 2015-05-04\n58129  ZEEMEDIA     EQ  17.95 2015-06-01,            SYMBOL SERIES   CLOSE  TIMESTAMP\n62568  ZENSARTECH     EQ  330.20 2010-07-01\n63974  ZENSARTECH     EQ  175.65 2010-08-02\n86966  ZENSARTECH     EQ  165.50 2010-09-01\n12251  ZENSARTECH     EQ  165.40 2010-10-01\n42632  ZENSARTECH     EQ  156.25 2010-11-01\n6134   ZENSARTECH     EQ  162.10 2010-12-01\n44103  ZENSARTECH     EQ  169.40 2011-01-03\n33645  ZENSARTECH     EQ  163.60 2011-02-01\n39650  ZENSARTECH     EQ  158.05 2011-03-01\n38173  ZENSARTECH     EQ  157.20 2011-04-01\n68397  ZENSARTECH     EQ  177.35 2011-05-02\n36682  ZENSARTECH     EQ  178.15 2011-06-01\n55000  ZENSARTECH     EQ  166.60 2011-07-01\n73122  ZENSARTECH     EQ  142.00 2011-08-01\n53498  ZENSARTECH     EQ  124.65 2011-09-02\n41165  ZENSARTECH     EQ  118.65 2011-10-03\n35181  ZENSARTECH     EQ  129.35 2011-11-01\n21612  ZENSARTECH     EQ  128.05 2011-12-01\n7660   ZENSARTECH     EQ  142.65 2012-01-02\n4672   ZENSARTECH     EQ  172.80 2012-02-01\n9207   ZENSARTECH     EQ  183.85 2012-03-01\n30798  ZENSARTECH     EQ  180.15 2012-04-02\n56544  ZENSARTECH     EQ  212.85 2012-05-02\n3108   ZENSARTECH     EQ  221.90 2012-06-01\n51982  ZENSARTECH     EQ  260.65 2012-07-02\n50428  ZENSARTECH     EQ  279.80 2012-08-01\n91353  ZENSARTECH     EQ  247.45 2012-09-03\n48884  ZENSARTECH     EQ  290.70 2012-10-01\n1567   ZENSARTECH     EQ  239.50 2012-11-01\n10805  ZENSARTECH     EQ  260.80 2012-12-03\n47298  ZENSARTECH     EQ  280.10 2013-01-01\n24639  ZENSARTECH     EQ  249.75 2013-02-01\n27795  ZENSARTECH     EQ  226.95 2013-03-01\n20085  ZENSARTECH     EQ  242.30 2013-04-01\n61167  ZENSARTECH     EQ  245.35 2013-05-02\n29234  ZENSARTECH     EQ  248.95 2013-06-03\n88410  ZENSARTECH     EQ  254.45 2013-07-01\n66905  ZENSARTECH     EQ  220.40 2013-08-01\n89791  ZENSARTECH     EQ  238.35 2013-09-02\n32172  ZENSARTECH     EQ  230.20 2013-10-01\n23053  ZENSARTECH     EQ  266.85 2013-11-01\n13719  ZENSARTECH     EQ  327.35 2013-12-02\n85541  ZENSARTECH     EQ  373.35 2014-01-01\n77714  ZENSARTECH     EQ  374.95 2014-02-03\n76215  ZENSARTECH     EQ  389.25 2014-03-03\n65523  ZENSARTECH     EQ  377.85 2014-04-01\n26209  ZENSARTECH     EQ  359.75 2014-05-02\n84082  ZENSARTECH     EQ  378.10 2014-06-02\n45714  ZENSARTECH     EQ  432.35 2014-07-01\n18525  ZENSARTECH     EQ  412.15 2014-08-01\n16930  ZENSARTECH     EQ  453.90 2014-09-01\n71602  ZENSARTECH     EQ  617.70 2014-10-01\n79323  ZENSARTECH     EQ  611.00 2014-11-03\n70008  ZENSARTECH     EQ  596.25 2014-12-01\n82472  ZENSARTECH     EQ  605.90 2015-01-01\n74700  ZENSARTECH     EQ  641.60 2015-02-02\n80896  ZENSARTECH     EQ  721.40 2015-03-02\n59692  ZENSARTECH     EQ  679.15 2015-04-01\n15298  ZENSARTECH     EQ  690.05 2015-05-04\n58132  ZENSARTECH     EQ  760.60 2015-06-01,        SYMBOL SERIES  CLOSE  TIMESTAMP\n59693  ZENTEC     EQ   55.7 2015-04-01\n15299  ZENTEC     EQ   61.3 2015-05-04\n58133  ZENTEC     EQ   77.2 2015-06-01,            SYMBOL SERIES   CLOSE  TIMESTAMP\n62570  ZODIACLOTH     EQ  519.95 2010-07-01\n63976  ZODIACLOTH     EQ  484.90 2010-08-02\n86968  ZODIACLOTH     EQ  339.95 2010-09-01\n12253  ZODIACLOTH     EQ  353.25 2010-10-01\n42634  ZODIACLOTH     EQ  412.65 2010-11-01\n6136   ZODIACLOTH     EQ  396.50 2010-12-01\n44105  ZODIACLOTH     EQ  403.35 2011-01-03\n33647  ZODIACLOTH     EQ  345.10 2011-02-01\n39652  ZODIACLOTH     EQ  372.00 2011-03-01\n38175  ZODIACLOTH     EQ  382.30 2011-04-01\n36684  ZODIACLOTH     EQ  374.60 2011-06-01\n55002  ZODIACLOTH     EQ  358.55 2011-07-01\n73124  ZODIACLOTH     EQ  366.70 2011-08-01\n53500  ZODIACLOTH     EQ  338.40 2011-09-02\n41167  ZODIACLOTH     EQ  231.40 2011-10-03\n35183  ZODIACLOTH     EQ  212.15 2011-11-01\n21614  ZODIACLOTH     EQ  201.65 2011-12-01\n7662   ZODIACLOTH     EQ  211.00 2012-01-02\n4674   ZODIACLOTH     EQ  204.70 2012-02-01\n9209   ZODIACLOTH     EQ  197.25 2012-03-01\n30800  ZODIACLOTH     EQ  202.70 2012-04-02\n56546  ZODIACLOTH     EQ  205.80 2012-05-02\n3110   ZODIACLOTH     EQ  190.85 2012-06-01\n51984  ZODIACLOTH     EQ  185.95 2012-07-02\n50430  ZODIACLOTH     EQ  192.65 2012-08-01\n91355  ZODIACLOTH     EQ  170.20 2012-09-03\n48886  ZODIACLOTH     EQ  189.25 2012-10-01\n1569   ZODIACLOTH     EQ  180.00 2012-11-01\n10807  ZODIACLOTH     EQ  190.90 2012-12-03\n47300  ZODIACLOTH     EQ  190.65 2013-01-01\n27797  ZODIACLOTH     EQ  200.50 2013-03-01\n20087  ZODIACLOTH     EQ  186.10 2013-04-01\n29236  ZODIACLOTH     EQ  196.95 2013-06-03\n88412  ZODIACLOTH     EQ  196.35 2013-07-01\n66907  ZODIACLOTH     EQ  166.10 2013-08-01\n89793  ZODIACLOTH     EQ  180.00 2013-09-02\n32174  ZODIACLOTH     EQ  197.00 2013-10-01\n23055  ZODIACLOTH     EQ  198.00 2013-11-01\n13721  ZODIACLOTH     EQ  199.00 2013-12-02\n77716  ZODIACLOTH     EQ  199.05 2014-02-03\n76217  ZODIACLOTH     EQ  198.05 2014-03-03\n65525  ZODIACLOTH     EQ  230.40 2014-04-01\n26211  ZODIACLOTH     EQ  275.40 2014-05-02\n84084  ZODIACLOTH     EQ  398.55 2014-06-02\n45716  ZODIACLOTH     EQ  400.45 2014-07-01\n18527  ZODIACLOTH     EQ  374.70 2014-08-01\n16932  ZODIACLOTH     EQ  370.00 2014-09-01\n71604  ZODIACLOTH     EQ  390.00 2014-10-01\n79325  ZODIACLOTH     EQ  385.00 2014-11-03\n70010  ZODIACLOTH     EQ  391.95 2014-12-01\n82474  ZODIACLOTH     EQ  372.00 2015-01-01\n74702  ZODIACLOTH     EQ  399.15 2015-02-02\n80898  ZODIACLOTH     EQ  296.35 2015-03-02\n59695  ZODIACLOTH     EQ  276.50 2015-04-01\n15301  ZODIACLOTH     EQ  292.25 2015-05-04\n58135  ZODIACLOTH     EQ  293.00 2015-06-01,       SYMBOL SERIES   CLOSE  TIMESTAMP\n47302  ZUARI     EQ  283.45 2013-01-01\n24643  ZUARI     EQ  238.70 2013-02-01\n27799  ZUARI     EQ  184.75 2013-03-01\n20089  ZUARI     EQ  152.85 2013-04-01\n61169  ZUARI     EQ  148.50 2013-05-02\n29237  ZUARI     EQ  104.90 2013-06-03\n88414  ZUARI     EQ  100.10 2013-07-01\n66908  ZUARI     EQ   81.45 2013-08-01\n89794  ZUARI     EQ   83.45 2013-09-02\n32175  ZUARI     EQ   84.10 2013-10-01\n23056  ZUARI     EQ   94.75 2013-11-01\n13722  ZUARI     EQ  136.85 2013-12-02\n85543  ZUARI     EQ  146.80 2014-01-01\n77717  ZUARI     EQ  136.45 2014-02-03\n76218  ZUARI     EQ  128.10 2014-03-03\n65527  ZUARI     EQ  131.65 2014-04-01\n26213  ZUARI     EQ  134.75 2014-05-02\n84086  ZUARI     EQ  160.20 2014-06-02\n45718  ZUARI     EQ  185.20 2014-07-01\n18529  ZUARI     EQ  177.45 2014-08-01\n16934  ZUARI     EQ  176.10 2014-09-01\n71606  ZUARI     EQ  201.85 2014-10-01\n79327  ZUARI     EQ  249.25 2014-11-03\n70012  ZUARI     EQ  265.15 2014-12-01\n82476  ZUARI     EQ  267.30 2015-01-01\n74704  ZUARI     EQ  236.55 2015-02-02\n80900  ZUARI     EQ  267.20 2015-03-02\n59697  ZUARI     EQ  252.10 2015-04-01\n15303  ZUARI     EQ  209.25 2015-05-04\n58137  ZUARI     EQ  197.15 2015-06-01,           SYMBOL SERIES   CLOSE  TIMESTAMP\n48888  ZUARIGLOB     EQ  145.80 2012-10-01\n1571   ZUARIGLOB     EQ  121.70 2012-11-01\n10810  ZUARIGLOB     EQ  119.35 2012-12-03\n47303  ZUARIGLOB     EQ  107.70 2013-01-01\n24644  ZUARIGLOB     EQ   90.95 2013-02-01\n27800  ZUARIGLOB     EQ   72.35 2013-03-01\n20090  ZUARIGLOB     EQ   74.20 2013-04-01\n61170  ZUARIGLOB     EQ   71.15 2013-05-02\n29238  ZUARIGLOB     EQ   63.25 2013-06-03\n88415  ZUARIGLOB     EQ   53.35 2013-07-01\n66909  ZUARIGLOB     EQ   42.20 2013-08-01\n89795  ZUARIGLOB     EQ   54.55 2013-09-02\n32176  ZUARIGLOB     EQ   53.10 2013-10-01\n23057  ZUARIGLOB     EQ   51.25 2013-11-01\n13723  ZUARIGLOB     EQ   82.35 2013-12-02\n85544  ZUARIGLOB     EQ   75.35 2014-01-01\n77718  ZUARIGLOB     EQ   58.45 2014-02-03\n76219  ZUARIGLOB     EQ   66.50 2014-03-03\n65528  ZUARIGLOB     EQ   76.20 2014-04-01\n26214  ZUARIGLOB     EQ   78.20 2014-05-02\n84087  ZUARIGLOB     EQ   80.45 2014-06-02\n45719  ZUARIGLOB     EQ   91.10 2014-07-01\n18530  ZUARIGLOB     EQ   84.25 2014-08-01\n16935  ZUARIGLOB     EQ   85.65 2014-09-01\n71607  ZUARIGLOB     EQ   90.50 2014-10-01\n79328  ZUARIGLOB     EQ   95.85 2014-11-03\n70013  ZUARIGLOB     EQ  108.10 2014-12-01\n82477  ZUARIGLOB     EQ  102.95 2015-01-01\n74705  ZUARIGLOB     EQ  101.60 2015-02-02\n80901  ZUARIGLOB     EQ  104.75 2015-03-02\n59698  ZUARIGLOB     EQ  100.65 2015-04-01\n15304  ZUARIGLOB     EQ   95.80 2015-05-04\n58138  ZUARIGLOB     EQ   95.00 2015-06-01,           SYMBOL SERIES    CLOSE  TIMESTAMP\n62573  ZYDUSWELL     EQ   489.55 2010-07-01\n63979  ZYDUSWELL     EQ   514.40 2010-08-02\n86971  ZYDUSWELL     EQ   594.30 2010-09-01\n12256  ZYDUSWELL     EQ   587.20 2010-10-01\n42637  ZYDUSWELL     EQ   545.05 2010-11-01\n6139   ZYDUSWELL     EQ   583.45 2010-12-01\n44108  ZYDUSWELL     EQ   597.70 2011-01-03\n33650  ZYDUSWELL     EQ   572.25 2011-02-01\n39655  ZYDUSWELL     EQ   586.80 2011-03-01\n38178  ZYDUSWELL     EQ   581.10 2011-04-01\n68400  ZYDUSWELL     EQ   602.35 2011-05-02\n36687  ZYDUSWELL     EQ   582.35 2011-06-01\n55005  ZYDUSWELL     EQ   645.10 2011-07-01\n73127  ZYDUSWELL     EQ   600.30 2011-08-01\n53503  ZYDUSWELL     EQ   591.45 2011-09-02\n41170  ZYDUSWELL     EQ   544.50 2011-10-03\n35186  ZYDUSWELL     EQ   570.85 2011-11-01\n21616  ZYDUSWELL     EQ   455.75 2011-12-01\n7665   ZYDUSWELL     EQ   379.60 2012-01-02\n4677   ZYDUSWELL     EQ   415.15 2012-02-01\n9212   ZYDUSWELL     EQ   368.95 2012-03-01\n30803  ZYDUSWELL     EQ   399.80 2012-04-02\n56549  ZYDUSWELL     EQ   383.15 2012-05-02\n3113   ZYDUSWELL     EQ   359.55 2012-06-01\n51987  ZYDUSWELL     EQ   410.00 2012-07-02\n50433  ZYDUSWELL     EQ   417.90 2012-08-01\n91358  ZYDUSWELL     EQ   393.70 2012-09-03\n48889  ZYDUSWELL     EQ   413.00 2012-10-01\n1572   ZYDUSWELL     EQ   445.60 2012-11-01\n10811  ZYDUSWELL     EQ   460.80 2012-12-03\n47304  ZYDUSWELL     EQ   521.10 2013-01-01\n24645  ZYDUSWELL     EQ   496.40 2013-02-01\n27801  ZYDUSWELL     EQ   473.05 2013-03-01\n20091  ZYDUSWELL     EQ   431.30 2013-04-01\n61171  ZYDUSWELL     EQ   446.10 2013-05-02\n29239  ZYDUSWELL     EQ   607.25 2013-06-03\n88416  ZYDUSWELL     EQ   642.00 2013-07-01\n66910  ZYDUSWELL     EQ   603.65 2013-08-01\n89796  ZYDUSWELL     EQ   534.60 2013-09-02\n32177  ZYDUSWELL     EQ   530.30 2013-10-01\n23058  ZYDUSWELL     EQ   565.60 2013-11-01\n13724  ZYDUSWELL     EQ   556.45 2013-12-02\n85545  ZYDUSWELL     EQ   552.45 2014-01-01\n77719  ZYDUSWELL     EQ   515.15 2014-02-03\n76220  ZYDUSWELL     EQ   485.65 2014-03-03\n65529  ZYDUSWELL     EQ   492.65 2014-04-01\n26215  ZYDUSWELL     EQ   529.80 2014-05-02\n84088  ZYDUSWELL     EQ   539.25 2014-06-02\n45720  ZYDUSWELL     EQ   584.40 2014-07-01\n18531  ZYDUSWELL     EQ   590.30 2014-08-01\n16936  ZYDUSWELL     EQ   606.65 2014-09-01\n71608  ZYDUSWELL     EQ   639.90 2014-10-01\n79329  ZYDUSWELL     EQ   630.00 2014-11-03\n70014  ZYDUSWELL     EQ   719.85 2014-12-01\n82478  ZYDUSWELL     EQ   811.40 2015-01-01\n74706  ZYDUSWELL     EQ   828.20 2015-02-02\n80902  ZYDUSWELL     EQ   849.65 2015-03-02\n59699  ZYDUSWELL     EQ  1021.10 2015-04-01\n15305  ZYDUSWELL     EQ  1009.20 2015-05-04\n58139  ZYDUSWELL     EQ   988.35 2015-06-01]\n\n\n\n425\n"
     ]
    }
   ],
   "source": [
    "j=1\n",
    "ds=[]\n",
    "for i in companies:\n",
    "    ds.append(df[df['SYMBOL']==i])\n",
    "index=0\n",
    "final_companies=[]\n",
    "final_prices=[]\n",
    "print(ds,end=\"\\n\\n\\n\\n\")\n",
    "max_len=len(ds[0])\n",
    "for i in ds:\n",
    "    if (len(i)>max_len):\n",
    "        max_len=len(i)\n",
    "for i in ds: \n",
    "    if (len(i)==max_len):\n",
    "        final_prices.append(i)\n",
    "        final_companies.append(companies[index])\n",
    "    index=index+1\n",
    "len(final_prices)\n",
    "print(len(final_companies))\n",
    "\n"
   ]
  },
  {
   "cell_type": "code",
   "execution_count": 12,
   "metadata": {
    "tags": []
   },
   "outputs": [],
   "source": [
    "##### writing ocmpany wise prices to different sheets in excel ##########\n",
    "# path='/Users/tejasvichabbra/Desktop/Portfolio_Analysis/out.xlsx'\n",
    "\n",
    "# excel_book = pxl.load_workbook(path)\n",
    "    \n",
    "# for i in range(0,len(ds)):\n",
    "#     with pd.ExcelWriter(path, engine='openpyxl') as writer: \n",
    "#         writer.book = excel_book\n",
    "#         writer.sheets = {\n",
    "#             worksheet.title: worksheet\n",
    "#             for worksheet in excel_book.worksheets\n",
    "#         }\n",
    "#         ds[i].to_excel(writer, companies[i], index=False)\n",
    "#         print(companies[i])\n",
    "#         writer.save()\n",
    "    \n"
   ]
  },
  {
   "cell_type": "code",
   "execution_count": 108,
   "metadata": {
    "tags": []
   },
   "outputs": [
    {
     "output_type": "execute_result",
     "data": {
      "text/plain": [
       "425"
      ]
     },
     "metadata": {},
     "execution_count": 108
    }
   ],
   "source": [
    "#calculating returns fro each comapny \n",
    "returns_list=[]\n",
    "mean_list=[]\n",
    "stddev_list=[]\n",
    "for i in range(0,len(final_companies)): \n",
    "    prices=final_prices[i]['CLOSE']\n",
    "    prices=prices.to_numpy()\n",
    "    returns=np.zeros(len(prices)-1)\n",
    "    j=-1\n",
    "    for h in range((len(prices)-1),0,-1):\n",
    "        j=j+1\n",
    "        returns[j]=(prices[h]-prices[h-1])/prices[h-1]\n",
    "        \n",
    "    returns_list.append(returns)\n",
    "    mean_list.append(returns.mean())\n",
    "    stddev_list.append(returns.std())\n",
    "len(mean_list)\n",
    "len(returns_list)"
   ]
  },
  {
   "cell_type": "code",
   "execution_count": 109,
   "metadata": {},
   "outputs": [
    {
     "output_type": "execute_result",
     "data": {
      "text/plain": [
       "425"
      ]
     },
     "metadata": {},
     "execution_count": 109
    }
   ],
   "source": [
    "len(stddev_list)"
   ]
  },
  {
   "cell_type": "code",
   "execution_count": 110,
   "metadata": {
    "tags": []
   },
   "outputs": [],
   "source": [
    "correlation=[]\n",
    "i_index=0\n",
    "j_index=0\n",
    "corr_matrix=np.zeros(len(returns_list)**2).reshape(len(returns_list),len(returns_list))\n",
    "cov_matrix=np.zeros(len(returns_list)**2).reshape(len(returns_list),len(returns_list))\n",
    "\n",
    "for x in range(0,len(returns_list)):\n",
    "    i=returns_list[x]\n",
    "    for y in range(0,len(returns_list)):\n",
    "        j=returns_list[y]\n",
    "        corr_temp=np.corrcoef(i, j)\n",
    "        corr=corr_temp[0][1]\n",
    "        cov=corr*stddev_list[x]*stddev_list[y]\n",
    "        corr_matrix[x][y]=corr\n",
    "        cov_matrix[x][y]=cov\n",
    "        "
   ]
  },
  {
   "cell_type": "code",
   "execution_count": 111,
   "metadata": {
    "tags": []
   },
   "outputs": [],
   "source": [
    "final_just_prices=[]\n",
    "for i in final_prices:\n",
    "    final_just_prices.append(i['CLOSE'])"
   ]
  },
  {
   "cell_type": "code",
   "execution_count": null,
   "metadata": {
    "tags": []
   },
   "outputs": [],
   "source": [
    "##### ALL THE VARIABLES CALCULATED TILL NOW ######\n",
    "\n",
    "print(len(final_just_prices))# companywise prices arrays \n",
    "print(returns_list)# comapnywise returns arrays \n",
    "print(mean_list)# company wise mean returns \n",
    "print(stddev_list)# companywise stddev of returns\n",
    "print(corr_matrix)# correlation matrix \n",
    "print(cov_matrix)#covariance matrix "
   ]
  },
  {
   "cell_type": "code",
   "execution_count": null,
   "metadata": {},
   "outputs": [],
   "source": [
    "##### forming a list of all the important variables #####\n",
    "append_list=[]\n",
    "append_list.append(final_just_prices)\n",
    "append_list.append(returns_list)\n",
    "append_list.append(mean_list)\n",
    "append_list.append(stddev_list)\n",
    "append_list.append(corr_matrix)\n",
    "append_list.append(cov_matrix)\n",
    "append_list.append(weight_list)"
   ]
  },
  {
   "cell_type": "code",
   "execution_count": null,
   "metadata": {},
   "outputs": [],
   "source": [
    "##### writing all the important variables to different excel sheets of a workbook ###############\n",
    "name_arrays=['companywise prices arrays','comapnywise returns arrays','company wise mean returns','companywise stddev of returns','correlation matrix','covariance matrix','weighatges']\n",
    "path='/Users/tejasvichabbra/Desktop/Portfolio_Analysis/to_be_optimised_6yrs.xlsx'\n",
    "excel_book = pxl.load_workbook(path)\n",
    "def excel_writer(to_be_written,name):\n",
    "    with pd.ExcelWriter(path, engine='openpyxl') as writer: \n",
    "        writer.book = excel_book\n",
    "        writer.sheets = {\n",
    "        worksheet.title: worksheet\n",
    "        for worksheet in excel_book.worksheets\n",
    "        }\n",
    "        pd.DataFrame(to_be_written).to_excel(writer,name, index=False)\n",
    "        writer.save()\n",
    "\n",
    "excel_writer(weight_list,'weight_list')#weight \n",
    "excel_writer(mean_list,'mean_list')# company wise mean returns \n",
    "excel_writer(stddev_list,'stddev_list')# companywise stddev of returns\n",
    "excel_writer(corr_matrix,'corr_matrix')# correlation matrix \n",
    "excel_writer(cov_matrix,'cov_matrix')#covariance matrix "
   ]
  },
  {
   "cell_type": "code",
   "execution_count": 112,
   "metadata": {},
   "outputs": [],
   "source": [
    "W = np.ones((len(returns_list),1))*(1.0/len(returns_list))\n",
    "mean_list=np.array(mean_list)\n",
    "def optimize(func, W, exp_ret, cov, target_return):\n",
    "    opt_bounds = Bounds(0, 1)\n",
    "    opt_constraints = ({'type': 'eq','fun': lambda W: 1.0 - np.sum(W)},{'type': 'eq','fun': lambda W: target_return - W.T@exp_ret})\n",
    "    optimal_weights = minimize(func, W, \n",
    "                               args=(exp_ret, cov),\n",
    "                               method='SLSQP',\n",
    "                               bounds=opt_bounds,\n",
    "                               constraints=opt_constraints)\n",
    "    return optimal_weights['x']\n",
    "def ret_risk(W, exp_ret, cov):\n",
    "    return -((W.T@exp_ret) / (W.T@cov@W)**0.5)\n",
    "x = optimize(ret_risk,W,mean_list, cov_matrix, \n",
    "             target_return=0.05)\n"
   ]
  },
  {
   "cell_type": "code",
   "execution_count": 113,
   "metadata": {},
   "outputs": [
    {
     "output_type": "stream",
     "name": "stdout",
     "text": [
      "0.049999999999572324\n0.0026247577214365686\n"
     ]
    }
   ],
   "source": [
    "expected_return=mean_list.T@x\n",
    "expected_risk=(x.T@cov_matrix)@x\n",
    "print(expected_return)\n",
    "print(expected_risk)"
   ]
  },
  {
   "cell_type": "code",
   "execution_count": 114,
   "metadata": {},
   "outputs": [
    {
     "output_type": "execute_result",
     "data": {
      "text/plain": [
       "   SYMBOL SERIES    OPEN    HIGH     LOW   CLOSE    LAST  PREVCLOSE  \\\n",
       "22    ABB     EQ  1753.0  1757.7  1730.2  1742.1  1740.0    1757.75   \n",
       "\n",
       "    TOTTRDQTY     TOTTRDVAL    TIMESTAMP  TOTALTRADES          ISIN  \\\n",
       "22      69427  1.210653e+08  07-JUL-2021         5448  INE117A01022   \n",
       "\n",
       "    Unnamed: 13  \n",
       "22          NaN  "
      ],
      "text/html": "<div>\n<style scoped>\n    .dataframe tbody tr th:only-of-type {\n        vertical-align: middle;\n    }\n\n    .dataframe tbody tr th {\n        vertical-align: top;\n    }\n\n    .dataframe thead th {\n        text-align: right;\n    }\n</style>\n<table border=\"1\" class=\"dataframe\">\n  <thead>\n    <tr style=\"text-align: right;\">\n      <th></th>\n      <th>SYMBOL</th>\n      <th>SERIES</th>\n      <th>OPEN</th>\n      <th>HIGH</th>\n      <th>LOW</th>\n      <th>CLOSE</th>\n      <th>LAST</th>\n      <th>PREVCLOSE</th>\n      <th>TOTTRDQTY</th>\n      <th>TOTTRDVAL</th>\n      <th>TIMESTAMP</th>\n      <th>TOTALTRADES</th>\n      <th>ISIN</th>\n      <th>Unnamed: 13</th>\n    </tr>\n  </thead>\n  <tbody>\n    <tr>\n      <th>22</th>\n      <td>ABB</td>\n      <td>EQ</td>\n      <td>1753.0</td>\n      <td>1757.7</td>\n      <td>1730.2</td>\n      <td>1742.1</td>\n      <td>1740.0</td>\n      <td>1757.75</td>\n      <td>69427</td>\n      <td>1.210653e+08</td>\n      <td>07-JUL-2021</td>\n      <td>5448</td>\n      <td>INE117A01022</td>\n      <td>NaN</td>\n    </tr>\n  </tbody>\n</table>\n</div>"
     },
     "metadata": {},
     "execution_count": 114
    }
   ],
   "source": [
    "tmp=final_day[final_day['SYMBOL']==final_companies[3]]\n",
    "tmp"
   ]
  },
  {
   "cell_type": "code",
   "execution_count": 116,
   "metadata": {
    "tags": []
   },
   "outputs": [
    {
     "output_type": "stream",
     "name": "stdout",
     "text": [
      "(425, 1)\n(425, 1)\n[1.]\n[408620.53]\n"
     ]
    },
    {
     "output_type": "execute_result",
     "data": {
      "text/plain": [
       "array([[11426.17329317]])"
      ]
     },
     "metadata": {},
     "execution_count": 116
    }
   ],
   "source": [
    "ctr=0\n",
    "indi_final_returns=[]\n",
    "path_first_day=\"/Users/tejasvichabbra/Desktop/Portfolio_Analysis/firstday_data/firstday3.csv\"\n",
    "first_day=pd.read_csv(path_first_day)\n",
    "first_day=first_day[first_day['SERIES']=='EQ']\n",
    "for i in range(0,len(final_companies)):\n",
    "    tmp=final_day[final_day['SYMBOL']==final_companies[i]]\n",
    "    end=float(tmp['CLOSE'])\n",
    "    tmp1=first_day[first_day['SYMBOL']==final_companies[i]]\n",
    "    start=float(tmp1['CLOSE'])\n",
    "    ctr+=1\n",
    "    indi_final_returns.append(end-start)\n",
    "individual_returns=np.array(indi_final_returns)\n",
    "individual_returns=individual_returns.reshape(len(indi_final_returns),1)\n",
    "x=x.reshape(len(x),1)\n",
    "print(x.shape)\n",
    "print(individual_returns.shape)\n",
    "print(sum(x))\n",
    "print(sum(individual_returns))\n",
    "final_earnings=x.T@individual_returns\n",
    "final_earnings"
   ]
  },
  {
   "cell_type": "code",
   "execution_count": 138,
   "metadata": {},
   "outputs": [
    {
     "output_type": "error",
     "ename": "NameError",
     "evalue": "name 'fin_day' is not defined",
     "traceback": [
      "\u001b[0;31m---------------------------------------------------------------------------\u001b[0m",
      "\u001b[0;31mNameError\u001b[0m                                 Traceback (most recent call last)",
      "\u001b[0;32m<ipython-input-138-b303fbb2a68b>\u001b[0m in \u001b[0;36m<module>\u001b[0;34m\u001b[0m\n\u001b[1;32m      3\u001b[0m \u001b[0mfinal_dic\u001b[0m\u001b[0;34m=\u001b[0m\u001b[0;34m[\u001b[0m\u001b[0mexpected_return\u001b[0m\u001b[0;34m,\u001b[0m\u001b[0mexpected_risk\u001b[0m\u001b[0;34m,\u001b[0m\u001b[0mfloat\u001b[0m\u001b[0;34m(\u001b[0m\u001b[0mfinal_earnings\u001b[0m\u001b[0;34m)\u001b[0m\u001b[0;34m]\u001b[0m\u001b[0;34m\u001b[0m\u001b[0;34m\u001b[0m\u001b[0m\n\u001b[1;32m      4\u001b[0m \u001b[0ma_series\u001b[0m \u001b[0;34m=\u001b[0m \u001b[0mpd\u001b[0m\u001b[0;34m.\u001b[0m\u001b[0mSeries\u001b[0m\u001b[0;34m(\u001b[0m\u001b[0mfinal_dic\u001b[0m\u001b[0;34m,\u001b[0m \u001b[0mindex\u001b[0m \u001b[0;34m=\u001b[0m \u001b[0mfin_df\u001b[0m\u001b[0;34m.\u001b[0m\u001b[0mcolumns\u001b[0m\u001b[0;34m)\u001b[0m\u001b[0;34m\u001b[0m\u001b[0;34m\u001b[0m\u001b[0m\n\u001b[0;32m----> 5\u001b[0;31m \u001b[0mfin_df\u001b[0m \u001b[0;34m=\u001b[0m \u001b[0mfin_day\u001b[0m\u001b[0;34m.\u001b[0m\u001b[0mappend\u001b[0m\u001b[0;34m(\u001b[0m\u001b[0ma_series\u001b[0m\u001b[0;34m,\u001b[0m \u001b[0mignore_index\u001b[0m\u001b[0;34m=\u001b[0m\u001b[0;32mTrue\u001b[0m\u001b[0;34m)\u001b[0m\u001b[0;34m\u001b[0m\u001b[0;34m\u001b[0m\u001b[0m\n\u001b[0m\u001b[1;32m      6\u001b[0m \u001b[0mfin_df\u001b[0m\u001b[0;34m\u001b[0m\u001b[0;34m\u001b[0m\u001b[0m\n",
      "\u001b[0;31mNameError\u001b[0m: name 'fin_day' is not defined"
     ]
    }
   ],
   "source": [
    "col_names=['Expected Return' ,'Expected risk' ,'Final Earnings']\n",
    "fin_df=pd.DataFrame(columns=col_names)\n",
    "final_dic=[expected_return,expected_risk,float(final_earnings)]\n",
    "a_series = pd.Series(final_dic, index = fin_df.columns)\n",
    "fin_df = fin_df.append(a_series, ignore_index=True)\n",
    "fin_df"
   ]
  },
  {
   "cell_type": "code",
   "execution_count": null,
   "metadata": {},
   "outputs": [],
   "source": []
  },
  {
   "cell_type": "code",
   "execution_count": null,
   "metadata": {},
   "outputs": [],
   "source": []
  },
  {
   "cell_type": "code",
   "execution_count": null,
   "metadata": {},
   "outputs": [],
   "source": []
  },
  {
   "source": [
    "final_companies"
   ],
   "cell_type": "markdown",
   "metadata": {}
  },
  {
   "cell_type": "code",
   "execution_count": null,
   "metadata": {},
   "outputs": [],
   "source": []
  }
 ]
}